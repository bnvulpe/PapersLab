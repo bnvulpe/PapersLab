{
 "cells": [
  {
   "cell_type": "code",
   "execution_count": 1,
   "id": "07be8151",
   "metadata": {
    "execution": {
     "iopub.execute_input": "2024-06-22T09:56:33.412315Z",
     "iopub.status.busy": "2024-06-22T09:56:33.411553Z",
     "iopub.status.idle": "2024-06-22T09:56:33.678708Z",
     "shell.execute_reply": "2024-06-22T09:56:33.677157Z"
    },
    "tags": []
   },
   "outputs": [],
   "source": [
    "from pyspark.sql import SparkSession\n",
    "import requests\n",
    "import json\n",
    "import time"
   ]
  },
  {
   "cell_type": "code",
   "execution_count": 2,
   "id": "dc986bc2",
   "metadata": {
    "execution": {
     "iopub.execute_input": "2024-06-22T09:56:33.685461Z",
     "iopub.status.busy": "2024-06-22T09:56:33.684195Z",
     "iopub.status.idle": "2024-06-22T09:56:56.459262Z",
     "shell.execute_reply": "2024-06-22T09:56:56.436654Z"
    },
    "tags": []
   },
   "outputs": [
    {
     "name": "stderr",
     "output_type": "stream",
     "text": [
      "Setting default log level to \"WARN\".\n",
      "To adjust logging level use sc.setLogLevel(newLevel). For SparkR, use setLogLevel(newLevel).\n"
     ]
    },
    {
     "name": "stderr",
     "output_type": "stream",
     "text": [
      "24/06/22 09:56:39 WARN NativeCodeLoader: Unable to load native-hadoop library for your platform... using builtin-java classes where applicable\n"
     ]
    },
    {
     "name": "stderr",
     "output_type": "stream",
     "text": [
      "24/06/22 09:56:42 WARN Utils: Service 'SparkUI' could not bind on port 4040. Attempting port 4041.\n",
      "24/06/22 09:56:42 WARN Utils: Service 'SparkUI' could not bind on port 4041. Attempting port 4042.\n"
     ]
    },
    {
     "name": "stderr",
     "output_type": "stream",
     "text": [
      "\r\n",
      "[Stage 0:>                                                          (0 + 1) / 1]\r"
     ]
    },
    {
     "name": "stderr",
     "output_type": "stream",
     "text": [
      "\r\n",
      "                                                                                \r"
     ]
    }
   ],
   "source": [
    "# Initialize Spark session\n",
    "spark = SparkSession.builder.appName(\"HuggingFaceAPICall\").master(\"spark://spark-master:7077\").config(\"spark.cores.max\", \"2\").config(\"spark.executor.memory\", \"512m\").config(\"spark.eventLog.enabled\", \"true\").config(\"spark.eventLog.dir\", \"file:///opt/workspace/events\").getOrCreate()\n",
    "\n",
    "# Read JSON files from HDFS\n",
    "df = spark.read.json(\"all_papers.json\")\n",
    "\n",
    "hugging_face_bearer=\"API_KEY_HERE\"\n",
    "\n",
    "# Define function to make Hugging Face API call\n",
    "def call_hugging_face_api(text, model=\"oracat/bert-paper-classifier\"):\n",
    "    api_url = f\"https://api-inference.huggingface.co/models/{model}\"\n",
    "    headers = {\"Authorization\": \"Bearer \" + hugging_face_bearer }\n",
    "    wait_time = 1\n",
    "    for attempt in range(3):\n",
    "        try:\n",
    "            response = requests.post(api_url, headers=headers, json={\"inputs\": text})\n",
    "            response.raise_for_status()\n",
    "            return response.json()\n",
    "        except requests.exceptions.RequestException as e:\n",
    "            print(f\"Attempt {attempt + 1} failed: {e}\")\n",
    "            if attempt < 3 - 1:\n",
    "                print(f\"Waiting for {wait_time} seconds before retrying...\")\n",
    "                time.sleep(wait_time)\n",
    "                wait_time *= 2  # Exponential backoff\n",
    "            else:\n",
    "                print(\"All attempts failed. Raising exception.\")\n",
    "                raise"
   ]
  },
  {
   "cell_type": "code",
   "execution_count": 3,
   "id": "ed11c48b",
   "metadata": {
    "execution": {
     "iopub.execute_input": "2024-06-22T09:56:56.541640Z",
     "iopub.status.busy": "2024-06-22T09:56:56.539686Z",
     "iopub.status.idle": "2024-06-22T09:57:00.601799Z",
     "shell.execute_reply": "2024-06-22T09:57:00.600639Z"
    },
    "tags": []
   },
   "outputs": [
    {
     "name": "stderr",
     "output_type": "stream",
     "text": [
      "\r\n",
      "[Stage 1:>                                                          (0 + 1) / 1]\r"
     ]
    },
    {
     "name": "stderr",
     "output_type": "stream",
     "text": [
      "\r\n",
      "                                                                                \r"
     ]
    }
   ],
   "source": [
    "# Define transformation function\n",
    "def transform_row(row):\n",
    "    json_id = row['id']\n",
    "    text = row['title']\n",
    "    result = call_hugging_face_api(text)\n",
    "    print(result)\n",
    "    # Extract the first label from the result\n",
    "    first_label = result[0][0]['label'] if type(result) == list else 'Not detected'\n",
    "\n",
    "    return (json_id, first_label)\n",
    "\n",
    "# Apply transformation function to each row\n",
    "transformed_data = df.rdd.map(transform_row)\n",
    "\n",
    "# Convert RDD to DataFrame\n",
    "transformed_df = transformed_data.toDF([\"id\", \"theme\"])"
   ]
  },
  {
   "cell_type": "code",
   "execution_count": 4,
   "id": "c202f951",
   "metadata": {
    "execution": {
     "iopub.execute_input": "2024-06-22T09:57:00.608082Z",
     "iopub.status.busy": "2024-06-22T09:57:00.607614Z",
     "iopub.status.idle": "2024-06-22T09:57:07.552757Z",
     "shell.execute_reply": "2024-06-22T09:57:07.550769Z"
    }
   },
   "outputs": [
    {
     "name": "stderr",
     "output_type": "stream",
     "text": [
      "\r\n",
      "[Stage 2:>                                                          (0 + 1) / 1]\r"
     ]
    },
    {
     "name": "stderr",
     "output_type": "stream",
     "text": [
      "\r\n",
      "                                                                                \r"
     ]
    }
   ],
   "source": [
    "# Save DataFrame to CSV\n",
    "transformed_df.coalesce(1).write.csv(\"tabular/paper_theme\", header=True, mode=\"overwrite\")"
   ]
  },
  {
   "cell_type": "code",
   "execution_count": 5,
   "id": "1b72ee9f",
   "metadata": {
    "execution": {
     "iopub.execute_input": "2024-06-22T09:57:07.563865Z",
     "iopub.status.busy": "2024-06-22T09:57:07.563523Z",
     "iopub.status.idle": "2024-06-22T09:57:08.128035Z",
     "shell.execute_reply": "2024-06-22T09:57:08.127027Z"
    }
   },
   "outputs": [],
   "source": [
    "spark.stop()"
   ]
  },
  {
   "cell_type": "code",
   "execution_count": null,
   "id": "4719a589",
   "metadata": {},
   "outputs": [],
   "source": []
  }
 ],
 "metadata": {
  "kernelspec": {
   "display_name": "Python 3 (ipykernel)",
   "language": "python",
   "name": "python3"
  },
  "language_info": {
   "codemirror_mode": {
    "name": "ipython",
    "version": 3
   },
   "file_extension": ".py",
   "mimetype": "text/x-python",
   "name": "python",
   "nbconvert_exporter": "python",
   "pygments_lexer": "ipython3",
   "version": "3.9.7"
  }
 },
 "nbformat": 4,
 "nbformat_minor": 5
}
