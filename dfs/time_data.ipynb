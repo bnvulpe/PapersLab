{
 "cells": [
  {
   "cell_type": "code",
   "execution_count": 1,
   "metadata": {
    "execution": {
     "iopub.execute_input": "2024-05-22T19:12:36.852574Z",
     "iopub.status.busy": "2024-05-22T19:12:36.851697Z",
     "iopub.status.idle": "2024-05-22T19:12:36.991547Z",
     "shell.execute_reply": "2024-05-22T19:12:36.990403Z"
    },
    "id": "A_fi10eU0J97"
   },
   "outputs": [],
   "source": [
    "from pyspark.sql import SparkSession\n",
    "import requests\n",
    "import json\n",
    "from datetime import datetime"
   ]
  },
  {
   "cell_type": "code",
   "execution_count": 2,
   "metadata": {
    "execution": {
     "iopub.execute_input": "2024-05-22T19:12:36.997817Z",
     "iopub.status.busy": "2024-05-22T19:12:36.996883Z",
     "iopub.status.idle": "2024-05-22T19:12:49.716045Z",
     "shell.execute_reply": "2024-05-22T19:12:49.714585Z"
    }
   },
   "outputs": [
    {
     "name": "stderr",
     "output_type": "stream",
     "text": [
      "24/05/22 19:12:38 WARN NativeCodeLoader: Unable to load native-hadoop library for your platform... using builtin-java classes where applicable\n",
      "Using Spark's default log4j profile: org/apache/spark/log4j-defaults.properties\n",
      "Setting default log level to \"WARN\".\n",
      "To adjust logging level use sc.setLogLevel(newLevel). For SparkR, use setLogLevel(newLevel).\n",
      "                                                                                \r"
     ]
    }
   ],
   "source": [
    "# Initialize Spark session\n",
    "spark = SparkSession.builder.appName(\"Time_services\").master(\"spark://spark-master:7077\").config(\"spark.cores.max\", \"2\").config(\"spark.executor.memory\", \"512m\").config(\"spark.eventLog.enabled\", \"true\").config(\"spark.eventLog.dir\", \"file:///opt/workspace/events\").getOrCreate()\n",
    "\n",
    "# Read JSON files from HDFS\n",
    "df = spark.read.json(\"all_papers.json\")"
   ]
  },
  {
   "cell_type": "code",
   "execution_count": 3,
   "metadata": {
    "execution": {
     "iopub.execute_input": "2024-05-22T19:12:49.760293Z",
     "iopub.status.busy": "2024-05-22T19:12:49.759943Z",
     "iopub.status.idle": "2024-05-22T19:12:49.766907Z",
     "shell.execute_reply": "2024-05-22T19:12:49.765266Z"
    }
   },
   "outputs": [],
   "source": [
    "def transform_row(row):\n",
    "    json_id = row['id']\n",
    "    date = row['publishedDate']\n",
    "    date_object = datetime.strptime(date, \"%Y-%m-%dT%H:%M:%S\")\n",
    "    # Extract day of week\n",
    "    day_of_week = date_object.strftime(\"%A\")\n",
    "    month = date_object.strftime(\"%B\")\n",
    "\n",
    "    return (json_id, month, day_of_week)"
   ]
  },
  {
   "cell_type": "code",
   "execution_count": 4,
   "metadata": {
    "execution": {
     "iopub.execute_input": "2024-05-22T19:12:49.773268Z",
     "iopub.status.busy": "2024-05-22T19:12:49.771961Z",
     "iopub.status.idle": "2024-05-22T19:12:50.894635Z",
     "shell.execute_reply": "2024-05-22T19:12:50.892963Z"
    }
   },
   "outputs": [
    {
     "name": "stderr",
     "output_type": "stream",
     "text": [
      "                                                                                \r"
     ]
    }
   ],
   "source": [
    "transformed_data = df.rdd.map(transform_row)\n",
    "\n",
    "transformed_df = transformed_data.toDF([\"id\", \"month\", \"day_of_week\"])    "
   ]
  },
  {
   "cell_type": "code",
   "execution_count": 5,
   "metadata": {
    "execution": {
     "iopub.execute_input": "2024-05-22T19:12:50.900578Z",
     "iopub.status.busy": "2024-05-22T19:12:50.899873Z",
     "iopub.status.idle": "2024-05-22T19:12:53.366447Z",
     "shell.execute_reply": "2024-05-22T19:12:53.365066Z"
    }
   },
   "outputs": [
    {
     "name": "stderr",
     "output_type": "stream",
     "text": [
      "                                                                                \r"
     ]
    }
   ],
   "source": [
    "# Save DataFrame to CSV\n",
    "transformed_df.coalesce(1).write.csv(\"dataout/paper_dates\", header=True, mode=\"overwrite\")"
   ]
  },
  {
   "cell_type": "code",
   "execution_count": 6,
   "metadata": {
    "execution": {
     "iopub.execute_input": "2024-05-22T19:12:53.372035Z",
     "iopub.status.busy": "2024-05-22T19:12:53.371751Z",
     "iopub.status.idle": "2024-05-22T19:12:54.097310Z",
     "shell.execute_reply": "2024-05-22T19:12:54.094931Z"
    }
   },
   "outputs": [],
   "source": [
    "spark.stop()"
   ]
  },
  {
   "cell_type": "code",
   "execution_count": null,
   "metadata": {},
   "outputs": [],
   "source": []
  }
 ],
 "metadata": {
  "colab": {
   "name": "Te damos la bienvenida a Colaboratory",
   "provenance": [],
   "toc_visible": true
  },
  "kernelspec": {
   "display_name": "Python 3 (ipykernel)",
   "language": "python",
   "name": "python3"
  },
  "language_info": {
   "codemirror_mode": {
    "name": "ipython",
    "version": 3
   },
   "file_extension": ".py",
   "mimetype": "text/x-python",
   "name": "python",
   "nbconvert_exporter": "python",
   "pygments_lexer": "ipython3",
   "version": "3.7.3"
  }
 },
 "nbformat": 4,
 "nbformat_minor": 4
}
