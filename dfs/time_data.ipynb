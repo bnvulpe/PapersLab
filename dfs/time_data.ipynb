{
 "cells": [
  {
   "cell_type": "code",
   "execution_count": 1,
   "metadata": {
    "execution": {
     "iopub.execute_input": "2024-06-22T09:56:33.391843Z",
     "iopub.status.busy": "2024-06-22T09:56:33.391210Z",
     "iopub.status.idle": "2024-06-22T09:56:33.685144Z",
     "shell.execute_reply": "2024-06-22T09:56:33.683467Z"
    },
    "id": "A_fi10eU0J97"
   },
   "outputs": [],
   "source": [
    "from pyspark.sql import SparkSession\n",
    "import requests\n",
    "import json\n",
    "from datetime import datetime"
   ]
  },
  {
   "cell_type": "code",
   "execution_count": 2,
   "metadata": {
    "execution": {
     "iopub.execute_input": "2024-06-22T09:56:33.692312Z",
     "iopub.status.busy": "2024-06-22T09:56:33.690898Z",
     "iopub.status.idle": "2024-06-22T09:56:56.436795Z",
     "shell.execute_reply": "2024-06-22T09:56:56.398579Z"
    }
   },
   "outputs": [
    {
     "name": "stderr",
     "output_type": "stream",
     "text": [
      "Setting default log level to \"WARN\".\n",
      "To adjust logging level use sc.setLogLevel(newLevel). For SparkR, use setLogLevel(newLevel).\n"
     ]
    },
    {
     "name": "stderr",
     "output_type": "stream",
     "text": [
      "24/06/22 09:56:39 WARN NativeCodeLoader: Unable to load native-hadoop library for your platform... using builtin-java classes where applicable\n"
     ]
    },
    {
     "name": "stderr",
     "output_type": "stream",
     "text": [
      "24/06/22 09:56:42 WARN Utils: Service 'SparkUI' could not bind on port 4040. Attempting port 4041.\n"
     ]
    },
    {
     "name": "stderr",
     "output_type": "stream",
     "text": [
      "\r",
      "[Stage 0:>                                                          (0 + 1) / 1]\r"
     ]
    },
    {
     "name": "stderr",
     "output_type": "stream",
     "text": [
      "\r",
      "                                                                                \r"
     ]
    }
   ],
   "source": [
    "# Initialize Spark session\n",
    "spark = SparkSession.builder.appName(\"Time_services\").master(\"spark://spark-master:7077\").config(\"spark.cores.max\", \"2\").config(\"spark.executor.memory\", \"512m\").config(\"spark.eventLog.enabled\", \"true\").config(\"spark.eventLog.dir\", \"file:///opt/workspace/events\").getOrCreate()\n",
    "\n",
    "# Read JSON files from HDFS\n",
    "df = spark.read.json(\"all_papers.json\")"
   ]
  },
  {
   "cell_type": "code",
   "execution_count": 3,
   "metadata": {
    "execution": {
     "iopub.execute_input": "2024-06-22T09:56:56.523797Z",
     "iopub.status.busy": "2024-06-22T09:56:56.521080Z",
     "iopub.status.idle": "2024-06-22T09:56:56.590720Z",
     "shell.execute_reply": "2024-06-22T09:56:56.588199Z"
    }
   },
   "outputs": [],
   "source": [
    "def transform_row(row):\n",
    "    json_id = row['id']\n",
    "    date = row['publishedDate']\n",
    "    date_object = datetime.strptime(date, \"%Y-%m-%dT%H:%M:%S\")\n",
    "    # Extract day of week\n",
    "    day_of_week = date_object.strftime(\"%A\")\n",
    "    month = date_object.strftime(\"%B\")\n",
    "\n",
    "    return (json_id, month, day_of_week)"
   ]
  },
  {
   "cell_type": "code",
   "execution_count": 4,
   "metadata": {
    "execution": {
     "iopub.execute_input": "2024-06-22T09:56:56.599983Z",
     "iopub.status.busy": "2024-06-22T09:56:56.599330Z",
     "iopub.status.idle": "2024-06-22T09:56:59.843629Z",
     "shell.execute_reply": "2024-06-22T09:56:59.842846Z"
    }
   },
   "outputs": [
    {
     "name": "stderr",
     "output_type": "stream",
     "text": [
      "\r",
      "[Stage 1:>                                                          (0 + 1) / 1]\r"
     ]
    },
    {
     "name": "stderr",
     "output_type": "stream",
     "text": [
      "\r",
      "                                                                                \r"
     ]
    }
   ],
   "source": [
    "transformed_data = df.rdd.map(transform_row)\n",
    "\n",
    "transformed_df = transformed_data.toDF([\"id\", \"month\", \"day_of_week\"])    "
   ]
  },
  {
   "cell_type": "code",
   "execution_count": 5,
   "metadata": {
    "execution": {
     "iopub.execute_input": "2024-06-22T09:56:59.851187Z",
     "iopub.status.busy": "2024-06-22T09:56:59.850905Z",
     "iopub.status.idle": "2024-06-22T09:57:02.919592Z",
     "shell.execute_reply": "2024-06-22T09:57:02.918247Z"
    }
   },
   "outputs": [
    {
     "name": "stderr",
     "output_type": "stream",
     "text": [
      "\r",
      "[Stage 2:>                                                          (0 + 1) / 1]\r"
     ]
    },
    {
     "name": "stderr",
     "output_type": "stream",
     "text": [
      "\r",
      "                                                                                \r"
     ]
    }
   ],
   "source": [
    "# Save DataFrame to CSV\n",
    "transformed_df.coalesce(1).write.csv(\"tabular/paper_dates\", header=True, mode=\"overwrite\")"
   ]
  },
  {
   "cell_type": "code",
   "execution_count": 6,
   "metadata": {
    "execution": {
     "iopub.execute_input": "2024-06-22T09:57:02.924332Z",
     "iopub.status.busy": "2024-06-22T09:57:02.924036Z",
     "iopub.status.idle": "2024-06-22T09:57:03.664734Z",
     "shell.execute_reply": "2024-06-22T09:57:03.662391Z"
    }
   },
   "outputs": [],
   "source": [
    "spark.stop()"
   ]
  },
  {
   "cell_type": "code",
   "execution_count": null,
   "metadata": {},
   "outputs": [],
   "source": []
  }
 ],
 "metadata": {
  "colab": {
   "name": "Te damos la bienvenida a Colaboratory",
   "provenance": [],
   "toc_visible": true
  },
  "kernelspec": {
   "display_name": "Python 3 (ipykernel)",
   "language": "python",
   "name": "python3"
  },
  "language_info": {
   "codemirror_mode": {
    "name": "ipython",
    "version": 3
   },
   "file_extension": ".py",
   "mimetype": "text/x-python",
   "name": "python",
   "nbconvert_exporter": "python",
   "pygments_lexer": "ipython3",
   "version": "3.9.7"
  }
 },
 "nbformat": 4,
 "nbformat_minor": 4
}
