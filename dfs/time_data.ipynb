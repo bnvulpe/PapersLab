{
 "cells": [
  {
   "cell_type": "code",
   "execution_count": 1,
   "metadata": {
    "execution": {
     "iopub.execute_input": "2024-05-23T07:33:07.200402Z",
     "iopub.status.busy": "2024-05-23T07:33:07.199124Z",
     "iopub.status.idle": "2024-05-23T07:33:07.418960Z",
     "shell.execute_reply": "2024-05-23T07:33:07.417569Z"
    },
    "id": "A_fi10eU0J97"
   },
   "outputs": [],
   "source": [
    "from pyspark.sql import SparkSession\n",
    "import requests\n",
    "import json\n",
    "from datetime import datetime"
   ]
  },
  {
   "cell_type": "code",
   "execution_count": 2,
   "metadata": {
    "execution": {
     "iopub.execute_input": "2024-05-23T07:33:07.429279Z",
     "iopub.status.busy": "2024-05-23T07:33:07.428397Z",
     "iopub.status.idle": "2024-05-23T07:33:23.774374Z",
     "shell.execute_reply": "2024-05-23T07:33:23.766673Z"
    }
   },
   "outputs": [
    {
     "name": "stderr",
     "output_type": "stream",
     "text": [
      "24/05/23 07:33:10 WARN NativeCodeLoader: Unable to load native-hadoop library for your platform... using builtin-java classes where applicable\n",
      "Using Spark's default log4j profile: org/apache/spark/log4j-defaults.properties\n",
      "Setting default log level to \"WARN\".\n",
      "To adjust logging level use sc.setLogLevel(newLevel). For SparkR, use setLogLevel(newLevel).\n",
      "24/05/23 07:33:12 WARN Utils: Service 'SparkUI' could not bind on port 4040. Attempting port 4041.\n",
      "24/05/23 07:33:12 WARN Utils: Service 'SparkUI' could not bind on port 4041. Attempting port 4042.\n",
      "                                                                                \r"
     ]
    }
   ],
   "source": [
    "# Initialize Spark session\n",
    "spark = SparkSession.builder.appName(\"Time_services\").master(\"spark://spark-master:7077\").config(\"spark.cores.max\", \"2\").config(\"spark.executor.memory\", \"512m\").config(\"spark.eventLog.enabled\", \"true\").config(\"spark.eventLog.dir\", \"file:///opt/workspace/events\").getOrCreate()\n",
    "\n",
    "# Read JSON files from HDFS\n",
    "df = spark.read.json(\"all_papers.json\")"
   ]
  },
  {
   "cell_type": "code",
   "execution_count": 3,
   "metadata": {
    "execution": {
     "iopub.execute_input": "2024-05-23T07:33:23.844825Z",
     "iopub.status.busy": "2024-05-23T07:33:23.843597Z",
     "iopub.status.idle": "2024-05-23T07:33:23.860360Z",
     "shell.execute_reply": "2024-05-23T07:33:23.859032Z"
    }
   },
   "outputs": [],
   "source": [
    "def transform_row(row):\n",
    "    json_id = row['id']\n",
    "    date = row['publishedDate']\n",
    "    date_object = datetime.strptime(date, \"%Y-%m-%dT%H:%M:%S\")\n",
    "    # Extract day of week\n",
    "    day_of_week = date_object.strftime(\"%A\")\n",
    "    month = date_object.strftime(\"%B\")\n",
    "\n",
    "    return (json_id, month, day_of_week)"
   ]
  },
  {
   "cell_type": "code",
   "execution_count": 4,
   "metadata": {
    "execution": {
     "iopub.execute_input": "2024-05-23T07:33:23.881705Z",
     "iopub.status.busy": "2024-05-23T07:33:23.881258Z",
     "iopub.status.idle": "2024-05-23T07:33:26.474867Z",
     "shell.execute_reply": "2024-05-23T07:33:26.473066Z"
    }
   },
   "outputs": [
    {
     "name": "stderr",
     "output_type": "stream",
     "text": [
      "                                                                                \r"
     ]
    }
   ],
   "source": [
    "transformed_data = df.rdd.map(transform_row)\n",
    "\n",
    "transformed_df = transformed_data.toDF([\"id\", \"month\", \"day_of_week\"])    "
   ]
  },
  {
   "cell_type": "code",
   "execution_count": 5,
   "metadata": {
    "execution": {
     "iopub.execute_input": "2024-05-23T07:33:26.494642Z",
     "iopub.status.busy": "2024-05-23T07:33:26.493285Z",
     "iopub.status.idle": "2024-05-23T07:33:28.506153Z",
     "shell.execute_reply": "2024-05-23T07:33:28.504231Z"
    }
   },
   "outputs": [
    {
     "name": "stderr",
     "output_type": "stream",
     "text": [
      "                                                                                \r"
     ]
    }
   ],
   "source": [
    "# Save DataFrame to CSV\n",
    "transformed_df.coalesce(1).write.csv(\"dataout/paper_dates\", header=True, mode=\"overwrite\")"
   ]
  },
  {
   "cell_type": "code",
   "execution_count": 6,
   "metadata": {
    "execution": {
     "iopub.execute_input": "2024-05-23T07:33:28.513849Z",
     "iopub.status.busy": "2024-05-23T07:33:28.512280Z",
     "iopub.status.idle": "2024-05-23T07:33:29.175827Z",
     "shell.execute_reply": "2024-05-23T07:33:29.174278Z"
    }
   },
   "outputs": [],
   "source": [
    "spark.stop()"
   ]
  },
  {
   "cell_type": "code",
   "execution_count": null,
   "metadata": {},
   "outputs": [],
   "source": []
  }
 ],
 "metadata": {
  "colab": {
   "name": "Te damos la bienvenida a Colaboratory",
   "provenance": [],
   "toc_visible": true
  },
  "kernelspec": {
   "display_name": "Python 3 (ipykernel)",
   "language": "python",
   "name": "python3"
  },
  "language_info": {
   "codemirror_mode": {
    "name": "ipython",
    "version": 3
   },
   "file_extension": ".py",
   "mimetype": "text/x-python",
   "name": "python",
   "nbconvert_exporter": "python",
   "pygments_lexer": "ipython3",
   "version": "3.7.3"
  }
 },
 "nbformat": 4,
 "nbformat_minor": 4
}
