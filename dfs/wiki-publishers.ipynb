{
 "cells": [
  {
   "cell_type": "code",
   "execution_count": 1,
   "metadata": {
    "execution": {
     "iopub.execute_input": "2024-05-23T08:09:56.740440Z",
     "iopub.status.busy": "2024-05-23T08:09:56.731602Z",
     "iopub.status.idle": "2024-05-23T08:09:56.964066Z",
     "shell.execute_reply": "2024-05-23T08:09:56.962951Z"
    }
   },
   "outputs": [],
   "source": [
    "from pyspark.sql import SparkSession\n",
    "import requests\n",
    "import json\n",
    "import re\n",
    "from concurrent.futures import ThreadPoolExecutor\n",
    "from requests.adapters import HTTPAdapter"
   ]
  },
  {
   "cell_type": "code",
   "execution_count": 2,
   "metadata": {
    "execution": {
     "iopub.execute_input": "2024-05-23T08:09:56.973377Z",
     "iopub.status.busy": "2024-05-23T08:09:56.970590Z",
     "iopub.status.idle": "2024-05-23T08:09:57.001428Z",
     "shell.execute_reply": "2024-05-23T08:09:57.000033Z"
    }
   },
   "outputs": [],
   "source": [
    "def clean_publisher(publisher):\n",
    "    '''\n",
    "    Function to clean the publisher name\n",
    "    \n",
    "    Parameters:\n",
    "    publisher (str): the name of the publisher\n",
    "    \n",
    "    Returns:\n",
    "    cleaned_publisher (str): the cleaned name of the publisher\n",
    "    '''\n",
    "    # Remove \"Published by:\" text\n",
    "    publisher = publisher.replace(\"Published by:\", \"\")\n",
    "    # Remove content within parentheses or square brackets\n",
    "    publisher = re.sub(r'\\([^)]*\\)|\\[[^\\]]*\\]', '', publisher)\n",
    "    # Remove surrounding single or double quotes\n",
    "    publisher = publisher.strip('\"\\'')\n",
    "    # If publisher contains a comma or semicolon, split by comma or semicolon and take the first part\n",
    "    if ',' in publisher:\n",
    "        publisher = publisher.split(',')[0].strip()\n",
    "    elif ';' in publisher:\n",
    "        publisher = publisher.split(';')[0].strip()\n",
    "    # If publisher contains a forward slash (/), split by forward slash and take the first part\n",
    "    if '/' in publisher:\n",
    "        publisher = publisher.split('/')[0].strip()\n",
    "    # Remove periods\n",
    "    publisher = publisher.replace('.', '')\n",
    "    # Remove trailing numbers\n",
    "    publisher = re.sub(r'\\d+$', '', publisher)\n",
    "    return publisher.strip()\n",
    "\n",
    "def get_publishers(json_file):\n",
    "    '''\n",
    "    Function to get all 'clean' publishers from a JSON file\n",
    "    \n",
    "    Parameters:\n",
    "    json_file (str): the path to the JSON file\n",
    "    \n",
    "    Returns:\n",
    "    publishers (list): a list of tuples (id, publisher)\n",
    "    '''\n",
    "    publishers = []\n",
    "    with open(json_file, 'r') as f:\n",
    "        for line in f:\n",
    "            try:\n",
    "                data = json.loads(line)\n",
    "                publisher = str(data.get('publisher', ''))\n",
    "                idp = str(data.get('id', ''))\n",
    "                cleaned_publisher = clean_publisher(publisher)\n",
    "                if cleaned_publisher:  # Check if cleaned publisher is not an empty string\n",
    "                    publishers.append((idp, cleaned_publisher))\n",
    "                else:\n",
    "                    publishers.append((idp, 'Unknown'))\n",
    "            except json.JSONDecodeError:\n",
    "                print(f\"Skipping invalid JSON: {line}\")\n",
    "                continue\n",
    "    return publishers\n",
    "\n",
    "def get_publisher_description(publisher_name, session):\n",
    "    '''\n",
    "    Function to get the description of a publisher from Wikidata\n",
    "    \n",
    "    Parameters:\n",
    "    publisher_name (str): the name of the publisher\n",
    "    session (requests.Session): a session object to make HTTP requests\n",
    "\n",
    "    Returns:\n",
    "    description (str): the description of the publisher\n",
    "\n",
    "    '''\n",
    "    if publisher_name == 'Unknown':\n",
    "        return 'No description'\n",
    "\n",
    "    url = \"https://www.wikidata.org/w/api.php\"\n",
    "    params = {\n",
    "        \"action\": \"wbsearchentities\",\n",
    "        \"format\": \"json\",\n",
    "        \"language\": \"en\",\n",
    "        \"search\": publisher_name\n",
    "    }\n",
    "\n",
    "    try:\n",
    "        with session.get(url, params=params) as response:\n",
    "            data = response.json()\n",
    "            if data.get(\"search\"):\n",
    "                try:\n",
    "                    description = data[\"search\"][0][\"description\"]\n",
    "                    return description\n",
    "                except:\n",
    "                    return 'No description'\n",
    "            else:\n",
    "                return 'No description'\n",
    "    except Exception as e:\n",
    "        print(f\"Failed to fetch description for {publisher_name}: {e}\")\n",
    "        return 'No description'\n",
    "    \n",
    "def save_publisher_descriptions(publishers):\n",
    "    '''\n",
    "    Function to save the descriptions of all the publishers to a CSV file\n",
    "\n",
    "    Parameters:\n",
    "    publishers (list): a list of tuples (id, publisher)\n",
    "    '''\n",
    "    # Initialize Spark session\n",
    "    spark = SparkSession.builder.appName(\"papers_publisher\").master(\"spark://spark-master:7077\").config(\"spark.cores.max\", \"2\").config(\"spark.executor.memory\", \"512m\").config(\"spark.eventLog.enabled\", \"true\").config(\"spark.eventLog.dir\", \"file:///opt/workspace/events\").getOrCreate()\n",
    "\n",
    "    # Convert list of tuples to DataFrame\n",
    "    publishers_df = spark.createDataFrame(publishers, ['id', 'publisher'])\n",
    "    \n",
    "    with requests.Session() as session:\n",
    "        session.mount('https://', HTTPAdapter(max_retries=3))\n",
    "        # Use map transformation to get descriptions for each publisher\n",
    "        descriptions_rdd = publishers_df.rdd.map(lambda row: (row['id'],row['publisher'], get_publisher_description(row['publisher'], session)))\n",
    "\n",
    "    # Convert RDD back to DataFrame\n",
    "    descriptions_df = descriptions_rdd.toDF(['id', 'publisher', 'description'])\n",
    "    descriptions_df.coalesce(1).write.csv(\"dataout/paper_publishers\", header=True, mode=\"overwrite\")\n",
    "    # Stop Spark session\n",
    "    spark.stop()"
   ]
  },
  {
   "cell_type": "code",
   "execution_count": 3,
   "metadata": {
    "execution": {
     "iopub.execute_input": "2024-05-23T08:09:57.008654Z",
     "iopub.status.busy": "2024-05-23T08:09:57.007765Z",
     "iopub.status.idle": "2024-05-23T08:10:21.295761Z",
     "shell.execute_reply": "2024-05-23T08:10:21.281366Z"
    }
   },
   "outputs": [
    {
     "name": "stderr",
     "output_type": "stream",
     "text": [
      "24/05/23 08:10:00 WARN NativeCodeLoader: Unable to load native-hadoop library for your platform... using builtin-java classes where applicable\n",
      "Using Spark's default log4j profile: org/apache/spark/log4j-defaults.properties\n",
      "Setting default log level to \"WARN\".\n",
      "To adjust logging level use sc.setLogLevel(newLevel). For SparkR, use setLogLevel(newLevel).\n",
      "                                                                                \r"
     ]
    }
   ],
   "source": [
    "publishers = get_publishers(\"all_papers.json\")\n",
    "save_publisher_descriptions(publishers)"
   ]
  },
  {
   "cell_type": "code",
   "execution_count": null,
   "metadata": {},
   "outputs": [],
   "source": []
  }
 ],
 "metadata": {
  "kernelspec": {
   "display_name": "Python 3 (ipykernel)",
   "language": "python",
   "name": "python3"
  },
  "language_info": {
   "codemirror_mode": {
    "name": "ipython",
    "version": 3
   },
   "file_extension": ".py",
   "mimetype": "text/x-python",
   "name": "python",
   "nbconvert_exporter": "python",
   "pygments_lexer": "ipython3",
   "version": "3.7.3"
  }
 },
 "nbformat": 4,
 "nbformat_minor": 4
}
