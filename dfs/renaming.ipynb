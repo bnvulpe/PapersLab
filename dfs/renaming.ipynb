{
 "cells": [
  {
   "cell_type": "code",
   "execution_count": 1,
   "id": "dd863e46",
   "metadata": {
    "execution": {
     "iopub.execute_input": "2024-05-23T19:56:07.526944Z",
     "iopub.status.busy": "2024-05-23T19:56:07.526039Z",
     "iopub.status.idle": "2024-05-23T19:56:07.605581Z",
     "shell.execute_reply": "2024-05-23T19:56:07.604257Z"
    }
   },
   "outputs": [
    {
     "name": "stdout",
     "output_type": "stream",
     "text": [
      "File 'tabular/paper_theme/part-00000-3d101ff9-7a5a-4cf9-98f1-c072843da1f8-c000.csv' renamed to 'tabular/paper_theme/paper_theme.csv'.\n",
      "File 'tabular/paper_publishers/part-00000-0167847a-8d20-4f49-b915-d0a1295dfe3a-c000.csv' renamed to 'tabular/paper_publishers/paper_publishers.csv'.\n",
      "File 'tabular/paper_dates/part-00000-c6b0acdc-f4ae-40e6-ba3c-e03999db4dbb-c000.csv' renamed to 'tabular/paper_dates/paper_dates.csv'.\n",
      "File 'dataout/authors/part-00000-4c21f5dc-b31d-4949-9282-c59ff0d62c24-c000.csv' renamed to 'dataout/authors/authors.csv'.\n",
      "File 'dataout/papers/part-00000-a7a87b4f-4345-4444-acfc-add1fc2de83c-c000.csv' renamed to 'dataout/papers/papers.csv'.\n",
      "File 'dataout/posted_paper/part-00000-23a7ebb7-f9cb-4e24-8b38-57fb2ea6aa68-c000.csv' renamed to 'dataout/posted_paper/posted_paper.csv'.\n",
      "File 'dataout/posted_with/part-00000-05de033a-0c29-4cea-b281-2aff39cd4cb5-c000.csv' renamed to 'dataout/posted_with/posted_with.csv'.\n",
      "File 'dataout/published_with/part-00000-2d0b6c84-acc2-489f-bb90-62bf5cb04a4f-c000.csv' renamed to 'dataout/published_with/published_with.csv'.\n",
      "File 'dataout/publishers/part-00000-79dbbb9d-524e-4b69-97a1-23617bfb070d-c000.csv' renamed to 'dataout/publishers/publishers.csv'.\n"
     ]
    }
   ],
   "source": [
    "import os\n",
    "import glob\n",
    "\n",
    "def rename_files(pattern, new_names):\n",
    "    # Get the list of file paths matching the pattern\n",
    "    file_paths = [glob.glob(path)[0] for path in pattern]\n",
    "    \n",
    "    if len(file_paths) != len(new_names):\n",
    "        print(\"Number of file paths does not match number of new names.\")\n",
    "        return\n",
    "    \n",
    "    for path, new_name in zip(file_paths, new_names):\n",
    "        try:\n",
    "            os.rename(path, new_name)\n",
    "            print(f\"File '{path}' renamed to '{new_name}'.\")\n",
    "        except Exception as e:\n",
    "            print(f\"Failed to rename file '{path}' to '{new_name}': {e}\")\n",
    "\n",
    "# List of file paths to rename\n",
    "file_paths = [\n",
    "    \"tabular/paper_theme/*.csv\",\n",
    "    \"tabular/paper_publishers/*.csv\",\n",
    "    \"tabular/paper_dates/*.csv\",\n",
    "    \"dataout/authors/*.csv\",\n",
    "    \"dataout/papers/*.csv\",\n",
    "    \"dataout/posted_paper/*.csv\",\n",
    "    \"dataout/posted_with/*.csv\",\n",
    "    \"dataout/published_with/*.csv\",\n",
    "    \"dataout/publishers/*.csv\"\n",
    "]\n",
    "\n",
    "# List of new names corresponding to the file paths\n",
    "new_names = [\n",
    "    \"tabular/paper_theme/paper_theme.csv\",\n",
    "    \"tabular/paper_publishers/paper_publishers.csv\",\n",
    "    \"tabular/paper_dates/paper_dates.csv\",\n",
    "    \"dataout/authors/authors.csv\",\n",
    "    \"dataout/papers/papers.csv\",\n",
    "    \"dataout/posted_paper/posted_paper.csv\",\n",
    "    \"dataout/posted_with/posted_with.csv\",\n",
    "    \"dataout/published_with/published_with.csv\",\n",
    "    \"dataout/publishers/publishers.csv\"\n",
    "]\n",
    "\n",
    "# Call the function to rename files\n",
    "rename_files(file_paths, new_names)\n"
   ]
  },
  {
   "cell_type": "code",
   "execution_count": null,
   "id": "978efb0d",
   "metadata": {},
   "outputs": [],
   "source": []
  }
 ],
 "metadata": {
  "kernelspec": {
   "display_name": "Python 3 (ipykernel)",
   "language": "python",
   "name": "python3"
  },
  "language_info": {
   "codemirror_mode": {
    "name": "ipython",
    "version": 3
   },
   "file_extension": ".py",
   "mimetype": "text/x-python",
   "name": "python",
   "nbconvert_exporter": "python",
   "pygments_lexer": "ipython3",
   "version": "3.7.3"
  }
 },
 "nbformat": 4,
 "nbformat_minor": 5
}
