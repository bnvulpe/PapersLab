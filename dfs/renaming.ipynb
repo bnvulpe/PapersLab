{
 "cells": [
  {
   "cell_type": "code",
   "execution_count": 1,
   "id": "dd863e46",
   "metadata": {
    "execution": {
     "iopub.execute_input": "2024-06-22T09:57:52.073082Z",
     "iopub.status.busy": "2024-06-22T09:57:52.072418Z",
     "iopub.status.idle": "2024-06-22T09:57:52.185504Z",
     "shell.execute_reply": "2024-06-22T09:57:52.183634Z"
    }
   },
   "outputs": [
    {
     "name": "stdout",
     "output_type": "stream",
     "text": [
      "File 'tabular/paper_theme/part-00000-d170198c-fc27-4b93-94ad-09d32dfc28fe-c000.csv' renamed to 'tabular/paper_theme/paper_theme.csv'.\n",
      "File 'tabular/paper_publishers/part-00000-fdcf0476-981e-4912-9791-41d0e11ce155-c000.csv' renamed to 'tabular/paper_publishers/paper_publishers.csv'.\n",
      "File 'tabular/paper_dates/part-00000-44660433-56c5-4968-847b-c6fa791b8286-c000.csv' renamed to 'tabular/paper_dates/paper_dates.csv'.\n",
      "File 'dataout/authors/part-00000-84b83aa0-c3f2-4cea-9acb-9148bb90ed80-c000.csv' renamed to 'dataout/authors/authors.csv'.\n",
      "File 'dataout/papers/part-00000-e36c8d02-a40b-43c8-998e-b94f0b80662f-c000.csv' renamed to 'dataout/papers/papers.csv'.\n",
      "File 'dataout/posted_paper/part-00000-ae14509d-6b05-4ee6-8870-f217f7f74b69-c000.csv' renamed to 'dataout/posted_paper/posted_paper.csv'.\n",
      "File 'dataout/posted_with/part-00000-3c70234a-37ab-4609-b1ab-7c63fca4a95a-c000.csv' renamed to 'dataout/posted_with/posted_with.csv'.\n",
      "File 'dataout/published_with/part-00000-391917fe-09d9-4d64-8f0a-d5c31c7cd35c-c000.csv' renamed to 'dataout/published_with/published_with.csv'.\n",
      "File 'dataout/publishers/part-00000-57b22a9c-808f-49b4-95b4-464c3d505b08-c000.csv' renamed to 'dataout/publishers/publishers.csv'.\n"
     ]
    }
   ],
   "source": [
    "import os\n",
    "import glob\n",
    "\n",
    "def rename_files(pattern, new_names):\n",
    "    # Get the list of file paths matching the pattern\n",
    "    file_paths = [glob.glob(path)[0] for path in pattern]\n",
    "    \n",
    "    if len(file_paths) != len(new_names):\n",
    "        print(\"Number of file paths does not match number of new names.\")\n",
    "        return\n",
    "    \n",
    "    for path, new_name in zip(file_paths, new_names):\n",
    "        try:\n",
    "            os.rename(path, new_name)\n",
    "            print(f\"File '{path}' renamed to '{new_name}'.\")\n",
    "        except Exception as e:\n",
    "            print(f\"Failed to rename file '{path}' to '{new_name}': {e}\")\n",
    "\n",
    "# List of file paths to rename\n",
    "file_paths = [\n",
    "    \"tabular/paper_theme/*.csv\",\n",
    "    \"tabular/paper_publishers/*.csv\",\n",
    "    \"tabular/paper_dates/*.csv\",\n",
    "    \"dataout/authors/*.csv\",\n",
    "    \"dataout/papers/*.csv\",\n",
    "    \"dataout/posted_paper/*.csv\",\n",
    "    \"dataout/posted_with/*.csv\",\n",
    "    \"dataout/published_with/*.csv\",\n",
    "    \"dataout/publishers/*.csv\"\n",
    "]\n",
    "\n",
    "# List of new names corresponding to the file paths\n",
    "new_names = [\n",
    "    \"tabular/paper_theme/paper_theme.csv\",\n",
    "    \"tabular/paper_publishers/paper_publishers.csv\",\n",
    "    \"tabular/paper_dates/paper_dates.csv\",\n",
    "    \"dataout/authors/authors.csv\",\n",
    "    \"dataout/papers/papers.csv\",\n",
    "    \"dataout/posted_paper/posted_paper.csv\",\n",
    "    \"dataout/posted_with/posted_with.csv\",\n",
    "    \"dataout/published_with/published_with.csv\",\n",
    "    \"dataout/publishers/publishers.csv\"\n",
    "]\n",
    "\n",
    "# Call the function to rename files\n",
    "rename_files(file_paths, new_names)\n"
   ]
  },
  {
   "cell_type": "code",
   "execution_count": null,
   "id": "978efb0d",
   "metadata": {},
   "outputs": [],
   "source": []
  }
 ],
 "metadata": {
  "kernelspec": {
   "display_name": "Python 3 (ipykernel)",
   "language": "python",
   "name": "python3"
  },
  "language_info": {
   "codemirror_mode": {
    "name": "ipython",
    "version": 3
   },
   "file_extension": ".py",
   "mimetype": "text/x-python",
   "name": "python",
   "nbconvert_exporter": "python",
   "pygments_lexer": "ipython3",
   "version": "3.9.7"
  }
 },
 "nbformat": 4,
 "nbformat_minor": 5
}
