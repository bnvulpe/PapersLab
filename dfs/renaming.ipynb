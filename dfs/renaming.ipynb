{
 "cells": [
  {
   "cell_type": "code",
   "execution_count": 1,
   "id": "dd863e46",
   "metadata": {
    "execution": {
     "iopub.execute_input": "2024-05-23T06:58:25.697009Z",
     "iopub.status.busy": "2024-05-23T06:58:25.696423Z",
     "iopub.status.idle": "2024-05-23T06:58:25.897441Z",
     "shell.execute_reply": "2024-05-23T06:58:25.895947Z"
    }
   },
   "outputs": [
    {
     "name": "stdout",
     "output_type": "stream",
     "text": [
      "File 'dataout/paper_theme/part-00000-eedd6f10-a483-4d12-b762-51712e818ed9-c000.csv' renamed to 'dataout/paper_theme/paper_theme.csv'.\n",
      "File 'dataout/paper_publishers/part-00000-4ef2c9d0-42a3-4050-87b8-696ce0132503-c000.csv' renamed to 'dataout/paper_publishers/paper_publishers.csv'.\n",
      "File 'dataout/paper_dates/part-00000-10dff3ec-4ae8-4e9f-9a27-f78245d6d12c-c000.csv' renamed to 'dataout/paper_dates/paper_dates.csv'.\n",
      "File 'dataout/authors/part-00000-ab56b860-fa31-49e9-b7a6-ea847c27a8d6-c000.csv' renamed to 'dataout/authors/authors.csv'.\n",
      "File 'dataout/papers/part-00000-00c232e8-d025-421a-a85f-9ba6aed81c4e-c000.csv' renamed to 'dataout/papers/papers.csv'.\n",
      "File 'dataout/posted_paper/part-00000-1689f8d7-28f6-4c5e-a981-a86b77b483bf-c000.csv' renamed to 'dataout/posted_paper/posted_paper.csv'.\n",
      "File 'dataout/posted_with/part-00000-8f706b80-b198-4938-bbcb-dafecbeb1360-c000.csv' renamed to 'dataout/posted_with/posted_with.csv'.\n",
      "File 'dataout/published_with/part-00000-529b95dc-d733-4628-b274-6e482b9acb32-c000.csv' renamed to 'dataout/published_with/published_with.csv'.\n",
      "File 'dataout/publishers/part-00000-cf4729d3-7362-4c89-8ff7-deecc303a7bd-c000.csv' renamed to 'dataout/publishers/publishers.csv'.\n"
     ]
    }
   ],
   "source": [
    "import os\n",
    "import glob\n",
    "\n",
    "def rename_files(pattern, new_names):\n",
    "    # Get the list of file paths matching the pattern\n",
    "    file_paths = [glob.glob(path)[0] for path in pattern]\n",
    "    \n",
    "    if len(file_paths) != len(new_names):\n",
    "        print(\"Number of file paths does not match number of new names.\")\n",
    "        return\n",
    "    \n",
    "    for path, new_name in zip(file_paths, new_names):\n",
    "        try:\n",
    "            os.rename(path, new_name)\n",
    "            print(f\"File '{path}' renamed to '{new_name}'.\")\n",
    "        except Exception as e:\n",
    "            print(f\"Failed to rename file '{path}' to '{new_name}': {e}\")\n",
    "\n",
    "# List of file paths to rename\n",
    "file_paths = [\n",
    "    \"dataout/paper_theme/*.csv\",\n",
    "    \"dataout/paper_publishers/*.csv\",\n",
    "    \"dataout/paper_dates/*.csv\",\n",
    "    \"dataout/authors/*.csv\",\n",
    "    \"dataout/papers/*.csv\",\n",
    "    \"dataout/posted_paper/*.csv\",\n",
    "    \"dataout/posted_with/*.csv\",\n",
    "    \"dataout/published_with/*.csv\",\n",
    "    \"dataout/publishers/*.csv\"\n",
    "]\n",
    "\n",
    "# List of new names corresponding to the file paths\n",
    "new_names = [\n",
    "    \"dataout/paper_theme/paper_theme.csv\",\n",
    "    \"dataout/paper_publishers/paper_publishers.csv\",\n",
    "    \"dataout/paper_dates/paper_dates.csv\",\n",
    "    \"dataout/authors/authors.csv\",\n",
    "    \"dataout/papers/papers.csv\",\n",
    "    \"dataout/posted_paper/posted_paper.csv\",\n",
    "    \"dataout/posted_with/posted_with.csv\",\n",
    "    \"dataout/published_with/published_with.csv\",\n",
    "    \"dataout/publishers/publishers.csv\"\n",
    "]\n",
    "\n",
    "# Call the function to rename files\n",
    "rename_files(file_paths, new_names)\n"
   ]
  },
  {
   "cell_type": "code",
   "execution_count": null,
   "id": "978efb0d",
   "metadata": {},
   "outputs": [],
   "source": []
  }
 ],
 "metadata": {
  "kernelspec": {
   "display_name": "Python 3 (ipykernel)",
   "language": "python",
   "name": "python3"
  },
  "language_info": {
   "codemirror_mode": {
    "name": "ipython",
    "version": 3
   },
   "file_extension": ".py",
   "mimetype": "text/x-python",
   "name": "python",
   "nbconvert_exporter": "python",
   "pygments_lexer": "ipython3",
   "version": "3.7.3"
  }
 },
 "nbformat": 4,
 "nbformat_minor": 5
}
