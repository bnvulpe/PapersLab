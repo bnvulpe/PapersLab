{
 "cells": [
  {
   "cell_type": "code",
   "execution_count": 1,
   "id": "dd863e46",
   "metadata": {
    "execution": {
     "iopub.execute_input": "2024-05-23T20:35:47.330512Z",
     "iopub.status.busy": "2024-05-23T20:35:47.330044Z",
     "iopub.status.idle": "2024-05-23T20:35:47.394946Z",
     "shell.execute_reply": "2024-05-23T20:35:47.393986Z"
    }
   },
   "outputs": [
    {
     "name": "stdout",
     "output_type": "stream",
     "text": [
      "File 'tabular/paper_theme/part-00000-5003b48e-3363-4b75-acae-d2241be00b57-c000.csv' renamed to 'tabular/paper_theme/paper_theme.csv'.\n",
      "File 'tabular/paper_publishers/part-00000-9d114d15-e45a-46ce-b56d-d74d96c4e0e2-c000.csv' renamed to 'tabular/paper_publishers/paper_publishers.csv'.\n",
      "File 'tabular/paper_dates/part-00000-a0d6869d-e42c-4f05-9eba-80dfacab95d0-c000.csv' renamed to 'tabular/paper_dates/paper_dates.csv'.\n",
      "File 'dataout/authors/part-00000-6271e7ec-e0db-48f5-8f18-b7653f795e70-c000.csv' renamed to 'dataout/authors/authors.csv'.\n",
      "File 'dataout/papers/part-00000-9702f670-646d-44c7-982c-ece0df00205e-c000.csv' renamed to 'dataout/papers/papers.csv'.\n",
      "File 'dataout/posted_paper/part-00000-702792d0-02b4-47a2-bfa1-7bc35e5ea582-c000.csv' renamed to 'dataout/posted_paper/posted_paper.csv'.\n",
      "File 'dataout/posted_with/part-00000-d8d39a3b-d92f-46c1-911d-760506f4f72a-c000.csv' renamed to 'dataout/posted_with/posted_with.csv'.\n",
      "File 'dataout/published_with/part-00000-8ac40093-a32c-4f8e-8a42-4830d0510f9d-c000.csv' renamed to 'dataout/published_with/published_with.csv'.\n",
      "File 'dataout/publishers/part-00000-b285c144-0910-4f8f-80a6-ab5a15f4b78a-c000.csv' renamed to 'dataout/publishers/publishers.csv'.\n"
     ]
    }
   ],
   "source": [
    "import os\n",
    "import glob\n",
    "\n",
    "def rename_files(pattern, new_names):\n",
    "    # Get the list of file paths matching the pattern\n",
    "    file_paths = [glob.glob(path)[0] for path in pattern]\n",
    "    \n",
    "    if len(file_paths) != len(new_names):\n",
    "        print(\"Number of file paths does not match number of new names.\")\n",
    "        return\n",
    "    \n",
    "    for path, new_name in zip(file_paths, new_names):\n",
    "        try:\n",
    "            os.rename(path, new_name)\n",
    "            print(f\"File '{path}' renamed to '{new_name}'.\")\n",
    "        except Exception as e:\n",
    "            print(f\"Failed to rename file '{path}' to '{new_name}': {e}\")\n",
    "\n",
    "# List of file paths to rename\n",
    "file_paths = [\n",
    "    \"tabular/paper_theme/*.csv\",\n",
    "    \"tabular/paper_publishers/*.csv\",\n",
    "    \"tabular/paper_dates/*.csv\",\n",
    "    \"dataout/authors/*.csv\",\n",
    "    \"dataout/papers/*.csv\",\n",
    "    \"dataout/posted_paper/*.csv\",\n",
    "    \"dataout/posted_with/*.csv\",\n",
    "    \"dataout/published_with/*.csv\",\n",
    "    \"dataout/publishers/*.csv\"\n",
    "]\n",
    "\n",
    "# List of new names corresponding to the file paths\n",
    "new_names = [\n",
    "    \"tabular/paper_theme/paper_theme.csv\",\n",
    "    \"tabular/paper_publishers/paper_publishers.csv\",\n",
    "    \"tabular/paper_dates/paper_dates.csv\",\n",
    "    \"dataout/authors/authors.csv\",\n",
    "    \"dataout/papers/papers.csv\",\n",
    "    \"dataout/posted_paper/posted_paper.csv\",\n",
    "    \"dataout/posted_with/posted_with.csv\",\n",
    "    \"dataout/published_with/published_with.csv\",\n",
    "    \"dataout/publishers/publishers.csv\"\n",
    "]\n",
    "\n",
    "# Call the function to rename files\n",
    "rename_files(file_paths, new_names)\n"
   ]
  },
  {
   "cell_type": "code",
   "execution_count": null,
   "id": "978efb0d",
   "metadata": {},
   "outputs": [],
   "source": []
  }
 ],
 "metadata": {
  "kernelspec": {
   "display_name": "Python 3 (ipykernel)",
   "language": "python",
   "name": "python3"
  },
  "language_info": {
   "codemirror_mode": {
    "name": "ipython",
    "version": 3
   },
   "file_extension": ".py",
   "mimetype": "text/x-python",
   "name": "python",
   "nbconvert_exporter": "python",
   "pygments_lexer": "ipython3",
   "version": "3.7.3"
  }
 },
 "nbformat": 4,
 "nbformat_minor": 5
}
