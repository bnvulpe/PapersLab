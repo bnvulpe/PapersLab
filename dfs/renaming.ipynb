{
 "cells": [
  {
   "cell_type": "code",
   "execution_count": 1,
   "id": "dd863e46",
   "metadata": {
    "execution": {
     "iopub.execute_input": "2024-05-23T07:34:26.321550Z",
     "iopub.status.busy": "2024-05-23T07:34:26.319168Z",
     "iopub.status.idle": "2024-05-23T07:34:26.547967Z",
     "shell.execute_reply": "2024-05-23T07:34:26.545448Z"
    }
   },
   "outputs": [
    {
     "name": "stdout",
     "output_type": "stream",
     "text": [
      "File 'dataout/paper_theme/part-00000-aa059e0e-5b2c-442e-9914-51c2032fd4d9-c000.csv' renamed to 'dataout/paper_theme/paper_theme.csv'.\n",
      "File 'dataout/paper_publishers/part-00000-97eee8d4-12e9-4044-a954-19c22b97b4e8-c000.csv' renamed to 'dataout/paper_publishers/paper_publishers.csv'.\n",
      "File 'dataout/paper_dates/part-00000-ae8f63dc-aba6-49c1-baba-5cdf5edcced6-c000.csv' renamed to 'dataout/paper_dates/paper_dates.csv'.\n",
      "File 'dataout/authors/part-00000-52489e43-7497-4d88-8c86-8e3b098a35b1-c000.csv' renamed to 'dataout/authors/authors.csv'.\n",
      "File 'dataout/papers/part-00000-d9ef037c-7110-43dd-8e89-b933a04b5d11-c000.csv' renamed to 'dataout/papers/papers.csv'.\n",
      "File 'dataout/posted_paper/part-00000-614a4cda-e4dc-43c6-8665-1bb4113cae70-c000.csv' renamed to 'dataout/posted_paper/posted_paper.csv'.\n",
      "File 'dataout/posted_with/part-00000-485498a7-83fd-4cbf-afe8-15c3c3c8f0b0-c000.csv' renamed to 'dataout/posted_with/posted_with.csv'.\n",
      "File 'dataout/published_with/part-00000-c40d9234-5dbd-4df5-b380-851cb4309369-c000.csv' renamed to 'dataout/published_with/published_with.csv'.\n",
      "File 'dataout/publishers/part-00000-1e96f9f8-b789-4f9e-81b9-540bc0dda6f2-c000.csv' renamed to 'dataout/publishers/publishers.csv'.\n"
     ]
    }
   ],
   "source": [
    "import os\n",
    "import glob\n",
    "\n",
    "def rename_files(pattern, new_names):\n",
    "    # Get the list of file paths matching the pattern\n",
    "    file_paths = [glob.glob(path)[0] for path in pattern]\n",
    "    \n",
    "    if len(file_paths) != len(new_names):\n",
    "        print(\"Number of file paths does not match number of new names.\")\n",
    "        return\n",
    "    \n",
    "    for path, new_name in zip(file_paths, new_names):\n",
    "        try:\n",
    "            os.rename(path, new_name)\n",
    "            print(f\"File '{path}' renamed to '{new_name}'.\")\n",
    "        except Exception as e:\n",
    "            print(f\"Failed to rename file '{path}' to '{new_name}': {e}\")\n",
    "\n",
    "# List of file paths to rename\n",
    "file_paths = [\n",
    "    \"dataout/paper_theme/*.csv\",\n",
    "    \"dataout/paper_publishers/*.csv\",\n",
    "    \"dataout/paper_dates/*.csv\",\n",
    "    \"dataout/authors/*.csv\",\n",
    "    \"dataout/papers/*.csv\",\n",
    "    \"dataout/posted_paper/*.csv\",\n",
    "    \"dataout/posted_with/*.csv\",\n",
    "    \"dataout/published_with/*.csv\",\n",
    "    \"dataout/publishers/*.csv\"\n",
    "]\n",
    "\n",
    "# List of new names corresponding to the file paths\n",
    "new_names = [\n",
    "    \"dataout/paper_theme/paper_theme.csv\",\n",
    "    \"dataout/paper_publishers/paper_publishers.csv\",\n",
    "    \"dataout/paper_dates/paper_dates.csv\",\n",
    "    \"dataout/authors/authors.csv\",\n",
    "    \"dataout/papers/papers.csv\",\n",
    "    \"dataout/posted_paper/posted_paper.csv\",\n",
    "    \"dataout/posted_with/posted_with.csv\",\n",
    "    \"dataout/published_with/published_with.csv\",\n",
    "    \"dataout/publishers/publishers.csv\"\n",
    "]\n",
    "\n",
    "# Call the function to rename files\n",
    "rename_files(file_paths, new_names)\n"
   ]
  },
  {
   "cell_type": "code",
   "execution_count": null,
   "id": "978efb0d",
   "metadata": {},
   "outputs": [],
   "source": []
  }
 ],
 "metadata": {
  "kernelspec": {
   "display_name": "Python 3 (ipykernel)",
   "language": "python",
   "name": "python3"
  },
  "language_info": {
   "codemirror_mode": {
    "name": "ipython",
    "version": 3
   },
   "file_extension": ".py",
   "mimetype": "text/x-python",
   "name": "python",
   "nbconvert_exporter": "python",
   "pygments_lexer": "ipython3",
   "version": "3.7.3"
  }
 },
 "nbformat": 4,
 "nbformat_minor": 5
}
