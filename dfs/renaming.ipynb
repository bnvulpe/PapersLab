{
 "cells": [
  {
   "cell_type": "code",
   "execution_count": 1,
   "id": "dd863e46",
   "metadata": {
    "execution": {
     "iopub.execute_input": "2024-05-23T08:11:12.363032Z",
     "iopub.status.busy": "2024-05-23T08:11:12.361818Z",
     "iopub.status.idle": "2024-05-23T08:11:12.488408Z",
     "shell.execute_reply": "2024-05-23T08:11:12.486643Z"
    }
   },
   "outputs": [
    {
     "name": "stdout",
     "output_type": "stream",
     "text": [
      "File 'dataout/paper_theme/part-00000-d54bec54-3c39-43ac-a4fd-9e69b94af07b-c000.csv' renamed to 'dataout/paper_theme/paper_theme.csv'.\n",
      "File 'dataout/paper_publishers/part-00000-2c1a8c12-f786-4b19-b85c-300a520583d1-c000.csv' renamed to 'dataout/paper_publishers/paper_publishers.csv'.\n",
      "File 'dataout/paper_dates/part-00000-e103bdce-b224-40b5-9202-cba185b3106f-c000.csv' renamed to 'dataout/paper_dates/paper_dates.csv'.\n",
      "File 'dataout/authors/part-00000-e4673fac-4004-4a0d-998b-28e12682ddaa-c000.csv' renamed to 'dataout/authors/authors.csv'.\n",
      "File 'dataout/papers/part-00000-3d010f12-eeeb-4208-b9ad-3e344aea378c-c000.csv' renamed to 'dataout/papers/papers.csv'.\n",
      "File 'dataout/posted_paper/part-00000-448bd935-27a6-41e0-aaa5-3ec708b6e338-c000.csv' renamed to 'dataout/posted_paper/posted_paper.csv'.\n",
      "File 'dataout/posted_with/part-00000-29252eb0-8490-4d7c-857e-21da6e91b44c-c000.csv' renamed to 'dataout/posted_with/posted_with.csv'.\n",
      "File 'dataout/published_with/part-00000-7c292804-3b98-44c0-bfe0-dfd988b5c609-c000.csv' renamed to 'dataout/published_with/published_with.csv'.\n",
      "File 'dataout/publishers/part-00000-d238809a-1b87-4b67-b67a-dc9289d3002c-c000.csv' renamed to 'dataout/publishers/publishers.csv'.\n"
     ]
    }
   ],
   "source": [
    "import os\n",
    "import glob\n",
    "\n",
    "def rename_files(pattern, new_names):\n",
    "    # Get the list of file paths matching the pattern\n",
    "    file_paths = [glob.glob(path)[0] for path in pattern]\n",
    "    \n",
    "    if len(file_paths) != len(new_names):\n",
    "        print(\"Number of file paths does not match number of new names.\")\n",
    "        return\n",
    "    \n",
    "    for path, new_name in zip(file_paths, new_names):\n",
    "        try:\n",
    "            os.rename(path, new_name)\n",
    "            print(f\"File '{path}' renamed to '{new_name}'.\")\n",
    "        except Exception as e:\n",
    "            print(f\"Failed to rename file '{path}' to '{new_name}': {e}\")\n",
    "\n",
    "# List of file paths to rename\n",
    "file_paths = [\n",
    "    \"dataout/paper_theme/*.csv\",\n",
    "    \"dataout/paper_publishers/*.csv\",\n",
    "    \"dataout/paper_dates/*.csv\",\n",
    "    \"dataout/authors/*.csv\",\n",
    "    \"dataout/papers/*.csv\",\n",
    "    \"dataout/posted_paper/*.csv\",\n",
    "    \"dataout/posted_with/*.csv\",\n",
    "    \"dataout/published_with/*.csv\",\n",
    "    \"dataout/publishers/*.csv\"\n",
    "]\n",
    "\n",
    "# List of new names corresponding to the file paths\n",
    "new_names = [\n",
    "    \"dataout/paper_theme/paper_theme.csv\",\n",
    "    \"dataout/paper_publishers/paper_publishers.csv\",\n",
    "    \"dataout/paper_dates/paper_dates.csv\",\n",
    "    \"dataout/authors/authors.csv\",\n",
    "    \"dataout/papers/papers.csv\",\n",
    "    \"dataout/posted_paper/posted_paper.csv\",\n",
    "    \"dataout/posted_with/posted_with.csv\",\n",
    "    \"dataout/published_with/published_with.csv\",\n",
    "    \"dataout/publishers/publishers.csv\"\n",
    "]\n",
    "\n",
    "# Call the function to rename files\n",
    "rename_files(file_paths, new_names)\n"
   ]
  },
  {
   "cell_type": "code",
   "execution_count": null,
   "id": "978efb0d",
   "metadata": {},
   "outputs": [],
   "source": []
  }
 ],
 "metadata": {
  "kernelspec": {
   "display_name": "Python 3 (ipykernel)",
   "language": "python",
   "name": "python3"
  },
  "language_info": {
   "codemirror_mode": {
    "name": "ipython",
    "version": 3
   },
   "file_extension": ".py",
   "mimetype": "text/x-python",
   "name": "python",
   "nbconvert_exporter": "python",
   "pygments_lexer": "ipython3",
   "version": "3.7.3"
  }
 },
 "nbformat": 4,
 "nbformat_minor": 5
}
