{
 "cells": [
  {
   "cell_type": "code",
   "execution_count": 1,
   "id": "dd863e46",
   "metadata": {
    "execution": {
     "iopub.execute_input": "2024-05-22T19:13:36.914599Z",
     "iopub.status.busy": "2024-05-22T19:13:36.913973Z",
     "iopub.status.idle": "2024-05-22T19:13:37.007705Z",
     "shell.execute_reply": "2024-05-22T19:13:37.006522Z"
    }
   },
   "outputs": [
    {
     "name": "stdout",
     "output_type": "stream",
     "text": [
      "File 'dataout/paper_theme/part-00000-a2c9923e-e83b-4bd1-bfe3-716ccd7c24c4-c000.csv' renamed to 'dataout/paper_theme/paper_theme.csv'.\n",
      "File 'dataout/paper_publishers/part-00000-dafbe991-a60c-4469-8607-4c71c39364d9-c000.csv' renamed to 'dataout/paper_publishers/paper_publishers.csv'.\n",
      "File 'dataout/paper_dates/part-00000-fa865104-1784-4e89-ad15-7fed8d4559cf-c000.csv' renamed to 'dataout/paper_dates/paper_dates.csv'.\n",
      "File 'dataout/authors/part-00000-f30c9b91-4d65-4685-9ced-433acf234a6c-c000.csv' renamed to 'dataout/authors/authors.csv'.\n",
      "File 'dataout/papers/part-00000-d6d5a1f5-bd03-46fa-a212-3bb27aa4eb70-c000.csv' renamed to 'dataout/papers/papers.csv'.\n",
      "File 'dataout/posted_paper/part-00000-70fb6fa7-caff-47cd-bc3f-6609fa20b207-c000.csv' renamed to 'dataout/posted_paper/posted_paper.csv'.\n",
      "File 'dataout/posted_with/part-00000-b8657cb9-a4f0-40f0-b673-2928f31ded20-c000.csv' renamed to 'dataout/posted_with/posted_with.csv'.\n",
      "File 'dataout/published_with/part-00000-a222fe7e-dda5-440a-8146-f36bf64706c1-c000.csv' renamed to 'dataout/published_with/published_with.csv'.\n",
      "File 'dataout/publishers/part-00000-f5ac9aac-9d00-4f32-bf7b-9edb8d95bef0-c000.csv' renamed to 'dataout/publishers/publishers.csv'.\n"
     ]
    }
   ],
   "source": [
    "import os\n",
    "import glob\n",
    "\n",
    "def rename_files(pattern, new_names):\n",
    "    # Get the list of file paths matching the pattern\n",
    "    file_paths = [glob.glob(path)[0] for path in pattern]\n",
    "    \n",
    "    if len(file_paths) != len(new_names):\n",
    "        print(\"Number of file paths does not match number of new names.\")\n",
    "        return\n",
    "    \n",
    "    for path, new_name in zip(file_paths, new_names):\n",
    "        try:\n",
    "            os.rename(path, new_name)\n",
    "            print(f\"File '{path}' renamed to '{new_name}'.\")\n",
    "        except Exception as e:\n",
    "            print(f\"Failed to rename file '{path}' to '{new_name}': {e}\")\n",
    "\n",
    "# List of file paths to rename\n",
    "file_paths = [\n",
    "    \"dataout/paper_theme/*.csv\",\n",
    "    \"dataout/paper_publishers/*.csv\",\n",
    "    \"dataout/paper_dates/*.csv\",\n",
    "    \"dataout/authors/*.csv\",\n",
    "    \"dataout/papers/*.csv\",\n",
    "    \"dataout/posted_paper/*.csv\",\n",
    "    \"dataout/posted_with/*.csv\",\n",
    "    \"dataout/published_with/*.csv\",\n",
    "    \"dataout/publishers/*.csv\"\n",
    "]\n",
    "\n",
    "# List of new names corresponding to the file paths\n",
    "new_names = [\n",
    "    \"dataout/paper_theme/paper_theme.csv\",\n",
    "    \"dataout/paper_publishers/paper_publishers.csv\",\n",
    "    \"dataout/paper_dates/paper_dates.csv\",\n",
    "    \"dataout/authors/authors.csv\",\n",
    "    \"dataout/papers/papers.csv\",\n",
    "    \"dataout/posted_paper/posted_paper.csv\",\n",
    "    \"dataout/posted_with/posted_with.csv\",\n",
    "    \"dataout/published_with/published_with.csv\",\n",
    "    \"dataout/publishers/publishers.csv\"\n",
    "]\n",
    "\n",
    "# Call the function to rename files\n",
    "rename_files(file_paths, new_names)\n"
   ]
  },
  {
   "cell_type": "code",
   "execution_count": null,
   "id": "978efb0d",
   "metadata": {},
   "outputs": [],
   "source": []
  }
 ],
 "metadata": {
  "kernelspec": {
   "display_name": "Python 3 (ipykernel)",
   "language": "python",
   "name": "python3"
  },
  "language_info": {
   "codemirror_mode": {
    "name": "ipython",
    "version": 3
   },
   "file_extension": ".py",
   "mimetype": "text/x-python",
   "name": "python",
   "nbconvert_exporter": "python",
   "pygments_lexer": "ipython3",
   "version": "3.7.3"
  }
 },
 "nbformat": 4,
 "nbformat_minor": 5
}
