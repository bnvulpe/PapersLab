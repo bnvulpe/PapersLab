{
 "cells": [
  {
   "cell_type": "code",
   "execution_count": 1,
   "metadata": {
    "execution": {
     "iopub.execute_input": "2024-05-23T20:37:24.391929Z",
     "iopub.status.busy": "2024-05-23T20:37:24.391674Z",
     "iopub.status.idle": "2024-05-23T20:37:24.980968Z",
     "shell.execute_reply": "2024-05-23T20:37:24.980077Z"
    }
   },
   "outputs": [],
   "source": [
    "from elasticsearch import Elasticsearch, helpers\n",
    "import json\n",
    "\n",
    "# Connect to Elasticsearch\n",
    "client = Elasticsearch('http://elasticsearch:9200')\n",
    "# Create the index if it does not exist\n",
    "index_name = 'all_papers_index'\n",
    "if not client.indices.exists(index=index_name): client.indices.create(index=index_name)"
   ]
  },
  {
   "cell_type": "code",
   "execution_count": 2,
   "metadata": {
    "execution": {
     "iopub.execute_input": "2024-05-23T20:37:24.985221Z",
     "iopub.status.busy": "2024-05-23T20:37:24.984783Z",
     "iopub.status.idle": "2024-05-23T20:37:25.538919Z",
     "shell.execute_reply": "2024-05-23T20:37:25.537521Z"
    }
   },
   "outputs": [
    {
     "data": {
      "text/plain": [
       "(20, [])"
      ]
     },
     "execution_count": 2,
     "metadata": {},
     "output_type": "execute_result"
    }
   ],
   "source": [
    "# Function to read the JSON file and yield actions for bulk API\n",
    "def generate_actions(file_path):\n",
    "    with open(file_path, 'r') as file:\n",
    "        for line in file:\n",
    "            doc = json.loads(line.strip())\n",
    "            yield {\n",
    "                \"_index\": index_name,\n",
    "                \"_source\": doc\n",
    "            }\n",
    "\n",
    "# Path to the JSON file\n",
    "file_path = 'all_papers.json'\n",
    "\n",
    "# Use helpers.bulk to load data into Elasticsearch\n",
    "helpers.bulk(client, generate_actions(file_path))"
   ]
  },
  {
   "cell_type": "code",
   "execution_count": null,
   "metadata": {},
   "outputs": [],
   "source": []
  }
 ],
 "metadata": {
  "kernelspec": {
   "display_name": "Python 3 (ipykernel)",
   "language": "python",
   "name": "python3"
  },
  "language_info": {
   "codemirror_mode": {
    "name": "ipython",
    "version": 3
   },
   "file_extension": ".py",
   "mimetype": "text/x-python",
   "name": "python",
   "nbconvert_exporter": "python",
   "pygments_lexer": "ipython3",
   "version": "3.7.3"
  }
 },
 "nbformat": 4,
 "nbformat_minor": 4
}
